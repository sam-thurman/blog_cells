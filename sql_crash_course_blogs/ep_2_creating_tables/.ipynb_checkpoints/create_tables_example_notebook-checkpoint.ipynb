{
 "cells": [
  {
   "cell_type": "markdown",
   "metadata": {},
   "source": [
    "Import SQLite module for python"
   ]
  },
  {
   "cell_type": "code",
   "execution_count": 13,
   "metadata": {},
   "outputs": [],
   "source": [
    "import sqlite3"
   ]
  },
  {
   "cell_type": "markdown",
   "metadata": {},
   "source": [
    "Create a new SQLite database called `test.db`, assign the connection to a variable so that it can be accessed in the current script"
   ]
  },
  {
   "cell_type": "code",
   "execution_count": 14,
   "metadata": {},
   "outputs": [
    {
     "data": {
      "text/plain": [
       "<sqlite3.Connection at 0x7ffdde8d4730>"
      ]
     },
     "execution_count": 14,
     "metadata": {},
     "output_type": "execute_result"
    }
   ],
   "source": [
    "conn = sqlite3.connect('test.db') # database will be saved adjacent to this script\n",
    "conn # sqlite3 Connection object, connected to test.db"
   ]
  },
  {
   "cell_type": "markdown",
   "metadata": {},
   "source": [
    "Create a `.cursor()` object that 'points' to the database linked to our `conn` object."
   ]
  },
  {
   "cell_type": "code",
   "execution_count": 15,
   "metadata": {},
   "outputs": [],
   "source": [
    "c = conn.cursor() "
   ]
  },
  {
   "cell_type": "markdown",
   "metadata": {},
   "source": [
    "Template for creating a new table in SQLite:"
   ]
  },
  {
   "cell_type": "code",
   "execution_count": 4,
   "metadata": {},
   "outputs": [
    {
     "data": {
      "text/plain": [
       "'\\nCREATE TABLE table_name(\\n    [column_1] data_type PRIMARY KEY,\\n    [column_2] data_type, \\n    [column_3] data_type\\n    )\\n'"
      ]
     },
     "execution_count": 4,
     "metadata": {},
     "output_type": "execute_result"
    }
   ],
   "source": [
    "### Safest method:\n",
    "# Method asks for both our schema name (the `xyz` portion of our `xyz.db` filename), \n",
    "# and the name of the table we want to create)\n",
    "# Method first checks whether or not there is already a table inside the given \n",
    "# schema with the given name. If there is, nothing happens, no new table is created. \n",
    "# If there is not, a new table is created with the provied architechture. This \n",
    "# is simply a safety mechanism that prevents the potential overwriting of \n",
    "# current tables in the schema.\n",
    "# WITHOUT ROWID tells our database to create the table without a default \n",
    "# primary key column (remember, we already created a primary key column in \n",
    "#column_1)\n",
    "'''\n",
    "CREATE TABLE [IF NOT EXISTS] [schema_name].table_name (\n",
    "        [column_1] data_type PRIMARY KEY,\n",
    "        [column_2] data_type NOT NULL,\n",
    "        [column_3] data_type DEFAULT 0\n",
    "    ) [WITHOUT ROWID];\n",
    "'''\n",
    "\n",
    "### Quick n' dirty method:\n",
    "# Usually works fine but has the potential to break things.  Could potentially \n",
    "# overwrite existing tables having the same name.  Also, this syntax assumes \n",
    "# that we're already inside/connected to our desired table and schema (.db file)\n",
    "'''\n",
    "CREATE TABLE table_name(\n",
    "    [column_1] data_type PRIMARY KEY,\n",
    "    [column_2] data_type, \n",
    "    [column_3] data_type\n",
    "    );\n",
    "'''"
   ]
  },
  {
   "cell_type": "markdown",
   "metadata": {},
   "source": [
    "Handy link to a list of the SQL datatypes (remember you have to specify these during column creation): https://www.w3schools.com/sql/sql_datatypes.asp"
   ]
  },
  {
   "cell_type": "markdown",
   "metadata": {},
   "source": [
    "We're going to use a combination of the two methods above to create our tables."
   ]
  },
  {
   "cell_type": "markdown",
   "metadata": {},
   "source": [
    "Create a new table called `clients` in our `test` database"
   ]
  },
  {
   "cell_type": "code",
   "execution_count": 16,
   "metadata": {},
   "outputs": [
    {
     "data": {
      "text/plain": [
       "<sqlite3.Cursor at 0x7ffdde8df0a0>"
      ]
     },
     "execution_count": 16,
     "metadata": {},
     "output_type": "execute_result"
    }
   ],
   "source": [
    "c.execute('''\n",
    "CREATE TABLE IF NOT EXISTS clients (\n",
    "    generated_id INTEGER PRIMARY KEY,\n",
    "    Client_Name VARCHAR(255) NOT NULL, \n",
    "    Country_ID INT(255) NOT NULL, \n",
    "    Date DATE NOT NULL\n",
    "    );\n",
    "''')"
   ]
  },
  {
   "cell_type": "markdown",
   "metadata": {},
   "source": [
    "Create a new table called `country` in our `test` database"
   ]
  },
  {
   "cell_type": "code",
   "execution_count": 18,
   "metadata": {},
   "outputs": [
    {
     "data": {
      "text/plain": [
       "<sqlite3.Cursor at 0x7ffdde8df0a0>"
      ]
     },
     "execution_count": 18,
     "metadata": {},
     "output_type": "execute_result"
    }
   ],
   "source": [
    "c.execute('''\n",
    "CREATE TABLE IF NOT EXISTS country(\n",
    "    generated_id INTEGER PRIMARY KEY,\n",
    "    Country_ID INT(255) NOT NULL, \n",
    "    Country_Name VARCHAR(255) NOT NULL\n",
    "    );\n",
    "''')"
   ]
  },
  {
   "cell_type": "markdown",
   "metadata": {},
   "source": [
    "Create a new table called `daily_status` in our `test` database"
   ]
  },
  {
   "cell_type": "code",
   "execution_count": 22,
   "metadata": {},
   "outputs": [
    {
     "data": {
      "text/plain": [
       "<sqlite3.Cursor at 0x7ffdde8df0a0>"
      ]
     },
     "execution_count": 22,
     "metadata": {},
     "output_type": "execute_result"
    }
   ],
   "source": [
    "# Holds a string with a maximum length of 16,777,215 characters\n",
    "c.execute('''\n",
    "CREATE TABLE IF NOT EXISTS daily_status (\n",
    "    Client_Name VARCHAR(255) NOT NULL, \n",
    "    Country_Name VARCHAR(255) NOT NULL, \n",
    "    Date DATE NOT NULL, \n",
    "    Status MEDIUMTEXT NOT NULL,\n",
    "    Other_Notes MEDIUMTEXT\n",
    "    );\n",
    "''')"
   ]
  },
  {
   "cell_type": "markdown",
   "metadata": {},
   "source": [
    "Finalize changes to our database connected to `conn`"
   ]
  },
  {
   "cell_type": "code",
   "execution_count": 23,
   "metadata": {},
   "outputs": [],
   "source": [
    "conn.commit()"
   ]
  },
  {
   "cell_type": "markdown",
   "metadata": {},
   "source": [
    "Note that the syntax to create new tables should only be used once in the code (unless you dropped the table/s at the end of the code). \n",
    "\\\n",
    "The [generated_id] column is used to set an auto-increment ID for each record.\n",
    "\\\n",
    "When creating a new table, you can add both the field names as well as the field formats (e.g., Text)."
   ]
  },
  {
   "cell_type": "markdown",
   "metadata": {},
   "source": [
    "We can verify that these tables exist by using a `SELECT *` command to pull all entries (should be an empty return because we haven't added any rows to our tables yet).  We use the `.fetchall` method to return all outputs of `c.execute(...)`"
   ]
  },
  {
   "cell_type": "code",
   "execution_count": 28,
   "metadata": {},
   "outputs": [
    {
     "data": {
      "text/plain": [
       "[]"
      ]
     },
     "execution_count": 28,
     "metadata": {},
     "output_type": "execute_result"
    }
   ],
   "source": [
    "c.execute('''SELECT * FROM clients;''').fetchall()"
   ]
  },
  {
   "cell_type": "code",
   "execution_count": 29,
   "metadata": {},
   "outputs": [
    {
     "data": {
      "text/plain": [
       "[]"
      ]
     },
     "execution_count": 29,
     "metadata": {},
     "output_type": "execute_result"
    }
   ],
   "source": [
    "c.execute('''SELECT * FROM country;''').fetchall()"
   ]
  },
  {
   "cell_type": "code",
   "execution_count": 30,
   "metadata": {},
   "outputs": [
    {
     "data": {
      "text/plain": [
       "[]"
      ]
     },
     "execution_count": 30,
     "metadata": {},
     "output_type": "execute_result"
    }
   ],
   "source": [
    "c.execute('''SELECT * FROM daily_status;''').fetchall()"
   ]
  },
  {
   "cell_type": "markdown",
   "metadata": {},
   "source": [
    "You can see we get an error when we try to access a table that doesn't exist"
   ]
  },
  {
   "cell_type": "code",
   "execution_count": 31,
   "metadata": {},
   "outputs": [
    {
     "ename": "OperationalError",
     "evalue": "no such table: non_existant_table",
     "output_type": "error",
     "traceback": [
      "\u001b[0;31m---------------------------------------------------------------------------\u001b[0m",
      "\u001b[0;31mOperationalError\u001b[0m                          Traceback (most recent call last)",
      "\u001b[0;32m<ipython-input-31-f11890453daa>\u001b[0m in \u001b[0;36m<module>\u001b[0;34m\u001b[0m\n\u001b[0;32m----> 1\u001b[0;31m \u001b[0mc\u001b[0m\u001b[0;34m.\u001b[0m\u001b[0mexecute\u001b[0m\u001b[0;34m(\u001b[0m\u001b[0;34m'''SELECT * FROM non_existant_table'''\u001b[0m\u001b[0;34m)\u001b[0m\u001b[0;34m.\u001b[0m\u001b[0mfetchall\u001b[0m\u001b[0;34m(\u001b[0m\u001b[0;34m)\u001b[0m\u001b[0;34m\u001b[0m\u001b[0;34m\u001b[0m\u001b[0m\n\u001b[0m",
      "\u001b[0;31mOperationalError\u001b[0m: no such table: non_existant_table"
     ]
    }
   ],
   "source": [
    "c.execute('''SELECT * FROM non_existant_table''').fetchall()"
   ]
  },
  {
   "cell_type": "code",
   "execution_count": null,
   "metadata": {},
   "outputs": [],
   "source": []
  }
 ],
 "metadata": {
  "kernelspec": {
   "display_name": "Python [conda env:learn-env] *",
   "language": "python",
   "name": "conda-env-learn-env-py"
  },
  "language_info": {
   "codemirror_mode": {
    "name": "ipython",
    "version": 3
   },
   "file_extension": ".py",
   "mimetype": "text/x-python",
   "name": "python",
   "nbconvert_exporter": "python",
   "pygments_lexer": "ipython3",
   "version": "3.6.9"
  }
 },
 "nbformat": 4,
 "nbformat_minor": 4
}
