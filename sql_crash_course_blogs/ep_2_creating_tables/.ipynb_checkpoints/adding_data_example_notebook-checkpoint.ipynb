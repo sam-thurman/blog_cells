{
 "cells": [
  {
   "cell_type": "markdown",
   "metadata": {},
   "source": [
    "By now there should be a schema created in your current working directory called `test.db` that holds 3 tables: `clients`, `country` and `daily_status`."
   ]
  },
  {
   "cell_type": "markdown",
   "metadata": {},
   "source": [
    "Again, we import `sqlite3`, create a connection to our schema (`test.db` file), and create a cursor--using this connection--to point to our database."
   ]
  },
  {
   "cell_type": "code",
   "execution_count": 1,
   "metadata": {},
   "outputs": [],
   "source": [
    "import sqlite3\n",
    "conn = sqlite3.connect('test.db')\n",
    "c = conn.cursor()"
   ]
  },
  {
   "cell_type": "markdown",
   "metadata": {},
   "source": [
    "Syntax for inserting new value(s) into an existing table:"
   ]
  },
  {
   "cell_type": "code",
   "execution_count": 2,
   "metadata": {},
   "outputs": [],
   "source": [
    "### Single row of data, single column\n",
    "'''\n",
    "INSERT INTO table_name (column_name)\n",
    "VALUES \n",
    "   (_value_);\n",
    "'''\n",
    "\n",
    "### Single row of data, multiple columns\n",
    "'''\n",
    "INSERT INTO table_name (column1,column2 ,..)\n",
    "VALUES \n",
    "   (value1,value2 ,...);\n",
    "'''\n",
    "\n",
    "### Multiple rows of data, multiple columns\n",
    "'''\n",
    "INSERT INTO table_name (column1,column2 ,..)\n",
    "VALUES \n",
    "   (value1,value2 ,...),\n",
    "   (value1,value2 ,...),\n",
    "    ...\n",
    "   (value1,value2 ,...);\n",
    "'''\n",
    "pass"
   ]
  },
  {
   "cell_type": "markdown",
   "metadata": {},
   "source": [
    "Sometimes we might not know all of the columns in our desired table, we can check using the following syntax"
   ]
  },
  {
   "cell_type": "code",
   "execution_count": 8,
   "metadata": {},
   "outputs": [
    {
     "data": {
      "text/plain": [
       "[(0, 'generated_id', 'INTEGER', 0, None, 1),\n",
       " (1, 'Client_Name', 'VARCHAR(255)', 1, None, 0),\n",
       " (2, 'Country_ID', 'INT(255)', 1, None, 0),\n",
       " (3, 'Date', 'DATE', 1, None, 0)]"
      ]
     },
     "execution_count": 8,
     "metadata": {},
     "output_type": "execute_result"
    }
   ],
   "source": [
    "c.execute('''\n",
    "pragma table_info(clients);\n",
    "''').fetchall()"
   ]
  },
  {
   "cell_type": "code",
   "execution_count": 9,
   "metadata": {},
   "outputs": [
    {
     "data": {
      "text/plain": [
       "[(0, 'generated_id', 'INTEGER', 0, None, 1),\n",
       " (1, 'Country_ID', 'INT(255)', 1, None, 0),\n",
       " (2, 'Country_Name', 'VARCHAR(255)', 1, None, 0)]"
      ]
     },
     "execution_count": 9,
     "metadata": {},
     "output_type": "execute_result"
    }
   ],
   "source": [
    "c.execute('''\n",
    "pragma table_info(country);\n",
    "''').fetchall()"
   ]
  },
  {
   "cell_type": "markdown",
   "metadata": {},
   "source": [
    "Now that we know what columns to access, we can start adding data"
   ]
  },
  {
   "cell_type": "code",
   "execution_count": 11,
   "metadata": {},
   "outputs": [
    {
     "data": {
      "text/plain": [
       "<sqlite3.Cursor at 0x7ff6170c5180>"
      ]
     },
     "execution_count": 11,
     "metadata": {},
     "output_type": "execute_result"
    }
   ],
   "source": [
    "c.execute('''\n",
    "INSERT INTO country(Country_ID, Country_Name)\n",
    "VALUES \n",
    "    (8001, 'United States'),\n",
    "    (8002, 'Canada');\n",
    "''')"
   ]
  },
  {
   "cell_type": "markdown",
   "metadata": {},
   "source": [
    "Notice how we didn't specify a vale for our PRIMARY KEY column, that is because by default, SQL creates these uniqe identifiers for us. These primary keys are the `1` and `2` we can see as the first values in our returned row entires."
   ]
  },
  {
   "cell_type": "code",
   "execution_count": 13,
   "metadata": {},
   "outputs": [
    {
     "data": {
      "text/plain": [
       "[(1, 8001, 'United States'), (2, 8002, 'Canada')]"
      ]
     },
     "execution_count": 13,
     "metadata": {},
     "output_type": "execute_result"
    }
   ],
   "source": [
    "c.execute('''\n",
    "SELECT * FROM country;\n",
    "''').fetchall()"
   ]
  },
  {
   "cell_type": "markdown",
   "metadata": {},
   "source": [
    "Even though we haven't commited our changes using `conn.commit()` we can still view are changes since they occured locally (within our current working session).  If we want to make these changes available to anyone else that might be using our database, we should commit after we add data.  Let's do that now"
   ]
  },
  {
   "cell_type": "code",
   "execution_count": 14,
   "metadata": {},
   "outputs": [],
   "source": [
    "conn.commit()"
   ]
  },
  {
   "cell_type": "markdown",
   "metadata": {},
   "source": [
    "Now, let's add some rows to the `clients` table.  We now have a list of countries and country ids so we can use those to fill in information for some imaginary clients."
   ]
  },
  {
   "cell_type": "markdown",
   "metadata": {},
   "source": [
    "Usually when we're entering date/time data, we want to get the current date/time.  SQLite supports the standard SQL variables `CURRENT_DATE`, `CURRENT_TIME`, and `CURRENT_TIMESTAMP` that allow us to do that. Since our column has a data type of `DATE`, we use `CURRENT_DATE`."
   ]
  },
  {
   "cell_type": "code",
   "execution_count": 20,
   "metadata": {},
   "outputs": [],
   "source": [
    "c.execute('''\n",
    "INSERT INTO clients(Client_Name, Country_ID, Date)\n",
    "VALUES \n",
    "    ('American Co.', 8001, CURRENT_DATE),\n",
    "    ('Canadian Co.', 8002, CURRENT_DATE);\n",
    "''')\n",
    "conn.commit()"
   ]
  },
  {
   "cell_type": "markdown",
   "metadata": {},
   "source": [
    "We can see today's date entered as the last value in each row"
   ]
  },
  {
   "cell_type": "code",
   "execution_count": 21,
   "metadata": {},
   "outputs": [
    {
     "data": {
      "text/plain": [
       "[(1, 'American Co.', 8001, '2020-11-13'),\n",
       " (2, 'Canadian Co.', 8002, '2020-11-13'),\n",
       " (3, 'American Co.', 8001, '2020-11-13'),\n",
       " (4, 'Canadian Co.', 8002, '2020-11-13')]"
      ]
     },
     "execution_count": 21,
     "metadata": {},
     "output_type": "execute_result"
    }
   ],
   "source": [
    "c.execute('''\n",
    "SELECT * FROM clients;\n",
    "''').fetchall()"
   ]
  },
  {
   "cell_type": "code",
   "execution_count": 27,
   "metadata": {},
   "outputs": [
    {
     "data": {
      "text/plain": [
       "<sqlite3.Cursor at 0x7ff6170c5180>"
      ]
     },
     "execution_count": 27,
     "metadata": {},
     "output_type": "execute_result"
    }
   ],
   "source": [
    "c.execute('''\n",
    "DELETE FROM clients \n",
    "WHERE generated_id=3 OR generated_id=4\n",
    "''')"
   ]
  },
  {
   "cell_type": "code",
   "execution_count": 28,
   "metadata": {},
   "outputs": [
    {
     "data": {
      "text/plain": [
       "[(1, 'American Co.', 8001, '2020-11-13'),\n",
       " (2, 'Canadian Co.', 8002, '2020-11-13')]"
      ]
     },
     "execution_count": 28,
     "metadata": {},
     "output_type": "execute_result"
    }
   ],
   "source": [
    "c.execute('''\n",
    "SELECT * FROM clients;\n",
    "''').fetchall()"
   ]
  },
  {
   "cell_type": "code",
   "execution_count": null,
   "metadata": {},
   "outputs": [],
   "source": []
  }
 ],
 "metadata": {
  "kernelspec": {
   "display_name": "Python [conda env:learn-env] *",
   "language": "python",
   "name": "conda-env-learn-env-py"
  },
  "language_info": {
   "codemirror_mode": {
    "name": "ipython",
    "version": 3
   },
   "file_extension": ".py",
   "mimetype": "text/x-python",
   "name": "python",
   "nbconvert_exporter": "python",
   "pygments_lexer": "ipython3",
   "version": "3.6.9"
  }
 },
 "nbformat": 4,
 "nbformat_minor": 4
}
