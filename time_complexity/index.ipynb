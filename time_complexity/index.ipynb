{
 "cells": [
  {
   "cell_type": "code",
   "execution_count": 1,
   "metadata": {},
   "outputs": [],
   "source": [
    "import warnings\n",
    "warnings.filterwarnings('ignore')\n",
    "\n",
    "import numpy as np\n",
    "import timeit\n",
    "import time\n",
    "\n",
    "import seaborn as sns\n",
    "import plotly.express as plx"
   ]
  },
  {
   "cell_type": "markdown",
   "metadata": {},
   "source": [
    "# Linear time"
   ]
  },
  {
   "cell_type": "code",
   "execution_count": 2,
   "metadata": {},
   "outputs": [],
   "source": [
    "def get_sum(array):\n",
    "        tot = 0\n",
    "        for x in array:\n",
    "            tot += x\n",
    "        return tot"
   ]
  },
  {
   "cell_type": "code",
   "execution_count": 3,
   "metadata": {},
   "outputs": [],
   "source": [
    "times = []\n",
    "sizes = range(75)\n",
    "\n",
    "for s in sizes:\n",
    "    array = np.random.randint(low=0, high=9, size=s)\n",
    "    runtimes = []\n",
    "    for i in range(5):\n",
    "        start = time.time()\n",
    "        ### code to time\n",
    "        tot = 0\n",
    "        for x in array:\n",
    "            tot += x\n",
    "        ###\n",
    "        end = time.time()\n",
    "        runtimes.append(end-start)\n",
    "    times.append(np.mean(runtimes)*500)"
   ]
  },
  {
   "cell_type": "code",
   "execution_count": 4,
   "metadata": {},
   "outputs": [
    {
     "data": {
      "image/png": "[encoded data removed]",
      "text/plain": [
       "<Figure size 432x288 with 1 Axes>"
      ]
     },
     "metadata": {
      "needs_background": "light"
     },
     "output_type": "display_data"
    }
   ],
   "source": [
    "lin_plot = sns.scatterplot(sizes, times)"
   ]
  },
  {
   "cell_type": "markdown",
   "metadata": {},
   "source": [
    "# Constant time"
   ]
  },
  {
   "cell_type": "code",
   "execution_count": 5,
   "metadata": {},
   "outputs": [],
   "source": [
    "def silly(array):\n",
    "    tot = 0\n",
    "    return tot"
   ]
  },
  {
   "cell_type": "code",
   "execution_count": 6,
   "metadata": {},
   "outputs": [],
   "source": [
    "times = []\n",
    "sizes = range(75)\n",
    "\n",
    "for s in sizes:\n",
    "    array = np.random.randint(low=0, high=9, size=s)\n",
    "    runtimes = []\n",
    "    for i in range(5):\n",
    "        start = time.time()\n",
    "        ### code to time\n",
    "        tot = 0\n",
    "        ###\n",
    "        end = time.time()\n",
    "        runtimes.append(end-start)\n",
    "    times.append(np.mean(runtimes)*500)"
   ]
  },
  {
   "cell_type": "code",
   "execution_count": 7,
   "metadata": {},
   "outputs": [
    {
     "data": {
      "image/png": "[encoded data removed]",
      "text/plain": [
       "<Figure size 432x288 with 1 Axes>"
      ]
     },
     "metadata": {
      "needs_background": "light"
     },
     "output_type": "display_data"
    }
   ],
   "source": [
    "const_plot = sns.scatterplot(sizes, times)"
   ]
  },
  {
   "cell_type": "markdown",
   "metadata": {},
   "source": [
    "# Quadratic time"
   ]
  },
  {
   "cell_type": "code",
   "execution_count": 8,
   "metadata": {},
   "outputs": [],
   "source": [
    "def get_sum_2d(array):\n",
    "    tot = 0\n",
    "    for row in array:\n",
    "        for x in row:\n",
    "            tot += x\n",
    "    return tot"
   ]
  },
  {
   "cell_type": "code",
   "execution_count": 9,
   "metadata": {},
   "outputs": [],
   "source": [
    "times = []\n",
    "sizes = range(100)\n",
    "\n",
    "for s in sizes:\n",
    "    array = np.random.randint(low=0, high=9, size=(s,s))\n",
    "    runtimes = []\n",
    "    for i in range(5):\n",
    "        start = time.time()\n",
    "        ### code to time\n",
    "        tot = 0\n",
    "        for row in array:\n",
    "            for x in row:\n",
    "                tot += x\n",
    "        ###\n",
    "        end = time.time()\n",
    "        runtimes.append(end-start)\n",
    "    times.append(np.mean(runtimes)*1000)"
   ]
  },
  {
   "cell_type": "code",
   "execution_count": 10,
   "metadata": {},
   "outputs": [
    {
     "data": {
      "image/png": "[encoded data removed]",
      "text/plain": [
       "<Figure size 432x288 with 1 Axes>"
      ]
     },
     "metadata": {
      "needs_background": "light"
     },
     "output_type": "display_data"
    }
   ],
   "source": [
    "quad_plot = sns.scatterplot(sizes, times)"
   ]
  },
  {
   "cell_type": "markdown",
   "metadata": {},
   "source": [
    "# Logarithmic time"
   ]
  },
  {
   "cell_type": "code",
   "execution_count": 11,
   "metadata": {},
   "outputs": [],
   "source": [
    "def binary_search(arr, low, high, x): \n",
    "  \n",
    "    # Check base case \n",
    "    if high >= low: \n",
    "  \n",
    "        mid = (high + low) // 2\n",
    "  \n",
    "        # If element is present at the middle itself \n",
    "        if arr[mid] == x: \n",
    "            return mid \n",
    "  \n",
    "        # If element is smaller than mid, then it can only \n",
    "        # be present in left subarray \n",
    "        elif arr[mid] > x: \n",
    "            return binary_search(arr, low, mid - 1, x) \n",
    "  \n",
    "        # Else the element can only be present in right subarray \n",
    "        else: \n",
    "            return binary_search(arr, mid + 1, high, x) \n",
    "  \n",
    "    else: \n",
    "        # Element is not present in the array \n",
    "        return -1"
   ]
  },
  {
   "cell_type": "code",
   "execution_count": 12,
   "metadata": {},
   "outputs": [],
   "source": [
    "times = []\n",
    "sizes = list(range(1, 100))\n",
    "\n",
    "for s in sizes:\n",
    "    array = np.random.randint(low=0, high=s, size=s)\n",
    "    val = np.random.randint(low=0, high=s)\n",
    "    runtimes = []\n",
    "    for i in range(5):\n",
    "        start = time.time()\n",
    "        ### code to time\n",
    "        binary_search(array, 0, (len(array)-1), val)\n",
    "        ###\n",
    "        end = time.time()\n",
    "        runtimes.append(end-start)\n",
    "    times.append(np.mean(runtimes)*1000)"
   ]
  },
  {
   "cell_type": "code",
   "execution_count": 13,
   "metadata": {},
   "outputs": [
    {
     "data": {
      "image/png": "[encoded data removed]",
      "text/plain": [
       "<Figure size 432x288 with 1 Axes>"
      ]
     },
     "metadata": {
      "needs_background": "light"
     },
     "output_type": "display_data"
    }
   ],
   "source": [
    "log_plot = sns.scatterplot(sizes, times)"
   ]
  },
  {
   "cell_type": "markdown",
   "metadata": {},
   "source": [
    "# Save plots"
   ]
  },
  {
   "cell_type": "code",
   "execution_count": 14,
   "metadata": {},
   "outputs": [],
   "source": [
    "lin_plot.figure.savefig('./figures/linear_time.png')\n",
    "const_plot.figure.savefig('./figures/constant_time.png')\n",
    "quad_plot.figure.savefig('./figures/quadratic_time.png')\n",
    "log_plot.figure.savefig('./figures/logarithmic_time.png')"
   ]
  },
  {
   "cell_type": "code",
   "execution_count": null,
   "metadata": {},
   "outputs": [],
   "source": []
  }
 ],
 "metadata": {
  "kernelspec": {
   "display_name": "Python [conda env:learn-env] *",
   "language": "python",
   "name": "conda-env-learn-env-py"
  },
  "language_info": {
   "codemirror_mode": {
    "name": "ipython",
    "version": 3
   },
   "file_extension": ".py",
   "mimetype": "text/x-python",
   "name": "python",
   "nbconvert_exporter": "python",
   "pygments_lexer": "ipython3",
   "version": "3.6.9"
  }
 },
 "nbformat": 4,
 "nbformat_minor": 4
}
