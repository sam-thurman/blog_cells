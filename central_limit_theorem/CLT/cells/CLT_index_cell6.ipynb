{
 "cells": [
  {
   "cell_type": "code",
   "execution_count": 9,
   "metadata": {},
   "outputs": [],
   "source": [
    "def create_sample_distribution(data, dist_size=100, n=30):\n",
    "    \n",
    "    means = []\n",
    "    while dist_size:\n",
    "        sample = get_sample(data, n)\n",
    "        means.append(get_sample_mean(sample))\n",
    "        dist_size -= 1\n",
    "    \n",
    "    return means"
   ]
  },
  {
   "cell_type": "code",
   "execution_count": 10,
   "metadata": {},
   "outputs": [
    {
     "name": "stdout",
     "output_type": "stream",
     "text": [
      "[43.93333333333333, 47.166666666666664, 44.96666666666667, 50.766666666666666, 50.3]\n"
     ]
    }
   ],
   "source": [
    "test_sample_dist = create_sample_distribution(non_norm)\n",
    "print(test_sample_dist[:5]) "
   ]
  }
 ],
 "metadata": {
  "kernelspec": {
   "display_name": "Python [conda env:learn-env] *",
   "language": "python",
   "name": "conda-env-learn-env-py"
  },
  "language_info": {
   "codemirror_mode": {
    "name": "ipython",
    "version": 3
   },
   "file_extension": ".py",
   "mimetype": "text/x-python",
   "name": "python",
   "nbconvert_exporter": "python",
   "pygments_lexer": "ipython3",
   "version": "3.6.9"
  }
 },
 "nbformat": 4,
 "nbformat_minor": 4
}
