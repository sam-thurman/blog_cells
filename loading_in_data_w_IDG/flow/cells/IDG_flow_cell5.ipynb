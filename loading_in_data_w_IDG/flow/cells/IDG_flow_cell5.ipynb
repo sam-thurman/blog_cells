{
 "cells": [
  {
   "cell_type": "code",
   "execution_count": 7,
   "metadata": {},
   "outputs": [
    {
     "name": "stdout",
     "output_type": "stream",
     "text": [
      "Epoch 1/10\n",
      "1250/1250 [==============================] - 110s 88ms/step - loss: 1.8669 - accuracy: 0.3173 - val_loss: 1.6352 - val_accuracy: 0.4141\n",
      "Epoch 2/10\n",
      "1250/1250 [==============================] - 110s 88ms/step - loss: 1.5690 - accuracy: 0.4283 - val_loss: 1.3909 - val_accuracy: 0.5019\n",
      "Epoch 3/10\n",
      "1250/1250 [==============================] - 111s 89ms/step - loss: 1.4294 - accuracy: 0.4852 - val_loss: 1.3361 - val_accuracy: 0.5238\n",
      "Epoch 4/10\n",
      "1250/1250 [==============================] - 118s 95ms/step - loss: 1.3361 - accuracy: 0.5215 - val_loss: 1.2191 - val_accuracy: 0.5637\n",
      "Epoch 5/10\n",
      "1250/1250 [==============================] - 120s 96ms/step - loss: 1.2641 - accuracy: 0.5505 - val_loss: 1.1597 - val_accuracy: 0.5910\n",
      "Epoch 6/10\n",
      "1250/1250 [==============================] - 117s 93ms/step - loss: 1.2035 - accuracy: 0.5727 - val_loss: 1.1352 - val_accuracy: 0.5955\n",
      "Epoch 7/10\n",
      "1250/1250 [==============================] - 119s 95ms/step - loss: 1.1511 - accuracy: 0.5945 - val_loss: 1.0416 - val_accuracy: 0.6360\n",
      "Epoch 8/10\n",
      "1250/1250 [==============================] - 122s 97ms/step - loss: 1.1038 - accuracy: 0.6125 - val_loss: 1.0635 - val_accuracy: 0.6232\n",
      "Epoch 9/10\n",
      "1250/1250 [==============================] - 127s 101ms/step - loss: 1.0665 - accuracy: 0.6250 - val_loss: 0.9654 - val_accuracy: 0.6645\n",
      "Epoch 10/10\n",
      "1250/1250 [==============================] - 124s 99ms/step - loss: 1.0251 - accuracy: 0.6397 - val_loss: 0.9634 - val_accuracy: 0.6676\n"
     ]
    },
    {
     "data": {
      "text/plain": [
       "<tensorflow.python.keras.callbacks.History at 0x7fbefa0d7978>"
      ]
     },
     "execution_count": 7,
     "metadata": {},
     "output_type": "execute_result"
    }
   ],
   "source": [
    "STEP_SIZE_TRAIN=train_generator.n//train_generator.batch_size\n",
    "STEP_SIZE_VALID=valid_generator.n//valid_generator.batch_size\n",
    "\n",
    "model.fit(train_generator,\n",
    "          steps_per_epoch=STEP_SIZE_TRAIN,\n",
    "          validation_data=valid_generator,\n",
    "          validation_steps=STEP_SIZE_VALID,\n",
    "          epochs=10)"
   ]
  }
 ],
 "metadata": {
  "kernelspec": {
   "display_name": "Python [conda env:learn-env] *",
   "language": "python",
   "name": "conda-env-learn-env-py"
  },
  "language_info": {
   "codemirror_mode": {
    "name": "ipython",
    "version": 3
   },
   "file_extension": ".py",
   "mimetype": "text/x-python",
   "name": "python",
   "nbconvert_exporter": "python",
   "pygments_lexer": "ipython3",
   "version": "3.6.9"
  }
 },
 "nbformat": 4,
 "nbformat_minor": 4
}
