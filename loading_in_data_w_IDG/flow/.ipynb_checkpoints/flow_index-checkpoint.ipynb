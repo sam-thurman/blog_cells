{
 "cells": [
  {
   "cell_type": "code",
   "execution_count": 1,
   "metadata": {},
   "outputs": [],
   "source": [
    "from keras.preprocessing.image import ImageDataGenerator\n",
    "from keras.layers import Dense, Activation, Flatten, Dropout, BatchNormalization\n",
    "from keras.layers import Conv2D, MaxPooling2D\n",
    "from keras import regularizers, optimizers\n",
    "from keras.models import Model, Sequential\n",
    "\n",
    "from keras.datasets import cifar10\n",
    "from keras.utils import to_categorical"
   ]
  },
  {
   "cell_type": "code",
   "execution_count": 2,
   "metadata": {},
   "outputs": [],
   "source": [
    "(x_train, y_train), (x_test, y_test) = cifar10.load_data()\n",
    "\n",
    "num_classes = 10\n",
    "\n",
    "y_train = to_categorical(y_train, num_classes)\n",
    "y_test = to_categorical(y_test, num_classes)"
   ]
  },
  {
   "cell_type": "code",
   "execution_count": 3,
   "metadata": {},
   "outputs": [
    {
     "name": "stdout",
     "output_type": "stream",
     "text": [
      "(50000, 32, 32, 3)\n",
      "(50000, 10)\n"
     ]
    }
   ],
   "source": [
    "print(x_train.shape)\n",
    "print(y_train.shape)"
   ]
  },
  {
   "cell_type": "code",
   "execution_count": 4,
   "metadata": {},
   "outputs": [],
   "source": [
    "datagen = ImageDataGenerator(rescale=1./255.,validation_split=0.2)\n",
    "\n",
    "train_generator = datagen.flow(x_train,\n",
    "                               y_train,\n",
    "                               batch_size=32,\n",
    "                               shuffle=True,\n",
    "                               seed=42,\n",
    "                               subset='training')\n",
    "\n",
    "valid_generator = datagen.flow(x_train,\n",
    "                               y_train,\n",
    "                               batch_size=32,\n",
    "                               shuffle=True,\n",
    "                               seed=42,\n",
    "                               subset='validation')"
   ]
  },
  {
   "cell_type": "code",
   "execution_count": 5,
   "metadata": {},
   "outputs": [
    {
     "name": "stdout",
     "output_type": "stream",
     "text": [
      "40000\n",
      "10000\n"
     ]
    }
   ],
   "source": [
    "print(train_generator.n)\n",
    "print(valid_generator.n)"
   ]
  },
  {
   "cell_type": "code",
   "execution_count": 6,
   "metadata": {},
   "outputs": [],
   "source": [
    "model = Sequential()\n",
    "\n",
    "model.add(Conv2D(32, (3, 3), padding='same', input_shape=(32,32,3)))\n",
    "model.add(Activation('relu'))\n",
    "\n",
    "model.add(Conv2D(32, (3, 3)))\n",
    "model.add(Activation('relu'))\n",
    "model.add(MaxPooling2D(pool_size=(2, 2)))\n",
    "model.add(Dropout(0.25))\n",
    "\n",
    "model.add(Conv2D(64, (3, 3), padding='same'))\n",
    "model.add(Activation('relu'))\n",
    "\n",
    "model.add(Conv2D(64, (3, 3)))\n",
    "model.add(Activation('relu'))\n",
    "model.add(MaxPooling2D(pool_size=(2, 2)))\n",
    "model.add(Dropout(0.25))\n",
    "model.add(Flatten())\n",
    "\n",
    "model.add(Dense(512))\n",
    "model.add(Activation('relu'))\n",
    "model.add(Dropout(0.5))\n",
    "\n",
    "model.add(Dense(10, activation='softmax'))\n",
    "\n",
    "model.compile(optimizers.RMSprop(lr=0.0001, decay=1e-6),loss=\"categorical_crossentropy\",metrics=[\"accuracy\"])"
   ]
  },
  {
   "cell_type": "code",
   "execution_count": 7,
   "metadata": {},
   "outputs": [
    {
     "name": "stdout",
     "output_type": "stream",
     "text": [
      "Epoch 1/10\n",
      "1250/1250 [==============================] - 110s 88ms/step - loss: 1.8669 - accuracy: 0.3173 - val_loss: 1.6352 - val_accuracy: 0.4141\n",
      "Epoch 2/10\n",
      "1250/1250 [==============================] - 110s 88ms/step - loss: 1.5690 - accuracy: 0.4283 - val_loss: 1.3909 - val_accuracy: 0.5019\n",
      "Epoch 3/10\n",
      "1250/1250 [==============================] - 111s 89ms/step - loss: 1.4294 - accuracy: 0.4852 - val_loss: 1.3361 - val_accuracy: 0.5238\n",
      "Epoch 4/10\n",
      "1250/1250 [==============================] - 118s 95ms/step - loss: 1.3361 - accuracy: 0.5215 - val_loss: 1.2191 - val_accuracy: 0.5637\n",
      "Epoch 5/10\n",
      "1250/1250 [==============================] - 120s 96ms/step - loss: 1.2641 - accuracy: 0.5505 - val_loss: 1.1597 - val_accuracy: 0.5910\n",
      "Epoch 6/10\n",
      "1250/1250 [==============================] - 117s 93ms/step - loss: 1.2035 - accuracy: 0.5727 - val_loss: 1.1352 - val_accuracy: 0.5955\n",
      "Epoch 7/10\n",
      "1250/1250 [==============================] - 119s 95ms/step - loss: 1.1511 - accuracy: 0.5945 - val_loss: 1.0416 - val_accuracy: 0.6360\n",
      "Epoch 8/10\n",
      "1250/1250 [==============================] - 122s 97ms/step - loss: 1.1038 - accuracy: 0.6125 - val_loss: 1.0635 - val_accuracy: 0.6232\n",
      "Epoch 9/10\n",
      "1250/1250 [==============================] - 127s 101ms/step - loss: 1.0665 - accuracy: 0.6250 - val_loss: 0.9654 - val_accuracy: 0.6645\n",
      "Epoch 10/10\n",
      "1250/1250 [==============================] - 124s 99ms/step - loss: 1.0251 - accuracy: 0.6397 - val_loss: 0.9634 - val_accuracy: 0.6676\n"
     ]
    },
    {
     "data": {
      "text/plain": [
       "<tensorflow.python.keras.callbacks.History at 0x7fbefa0d7978>"
      ]
     },
     "execution_count": 7,
     "metadata": {},
     "output_type": "execute_result"
    }
   ],
   "source": [
    "STEP_SIZE_TRAIN=train_generator.n//train_generator.batch_size\n",
    "STEP_SIZE_VALID=valid_generator.n//valid_generator.batch_size\n",
    "\n",
    "model.fit(train_generator,\n",
    "          steps_per_epoch=STEP_SIZE_TRAIN,\n",
    "          validation_data=valid_generator,\n",
    "          validation_steps=STEP_SIZE_VALID,\n",
    "          epochs=10)"
   ]
  },
  {
   "cell_type": "code",
   "execution_count": null,
   "metadata": {},
   "outputs": [],
   "source": []
  }
 ],
 "metadata": {
  "kernelspec": {
   "display_name": "Python [conda env:learn-env] *",
   "language": "python",
   "name": "conda-env-learn-env-py"
  },
  "language_info": {
   "codemirror_mode": {
    "name": "ipython",
    "version": 3
   },
   "file_extension": ".py",
   "mimetype": "text/x-python",
   "name": "python",
   "nbconvert_exporter": "python",
   "pygments_lexer": "ipython3",
   "version": "3.6.9"
  }
 },
 "nbformat": 4,
 "nbformat_minor": 4
}
