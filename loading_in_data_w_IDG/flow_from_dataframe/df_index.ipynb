{
 "cells": [
  {
   "cell_type": "code",
   "execution_count": 1,
   "metadata": {},
   "outputs": [],
   "source": [
    "from keras.preprocessing.image import ImageDataGenerator\n",
    "from keras.layers import Dense, Activation, Flatten, Dropout, BatchNormalization\n",
    "from keras.layers import Conv2D, MaxPooling2D\n",
    "from keras import regularizers, optimizers\n",
    "from keras.models import Model, Sequential\n",
    "\n",
    "import pandas as pd"
   ]
  },
  {
   "cell_type": "code",
   "execution_count": 2,
   "metadata": {},
   "outputs": [],
   "source": [
    "data_path = 'data/cifar-10/'\n",
    "train_path = data_path + 'trainLabels.csv'\n",
    "\n",
    "# dfs contain filenames under \"id\" \n",
    "# we need to indicate we want our to load this in as string data\n",
    "train_df = pd.read_csv(train_path, dtype='str')"
   ]
  },
  {
   "cell_type": "code",
   "execution_count": 3,
   "metadata": {},
   "outputs": [
    {
     "data": {
      "text/plain": [
       "cat           5000\n",
       "frog          5000\n",
       "horse         5000\n",
       "airplane      5000\n",
       "bird          5000\n",
       "automobile    5000\n",
       "ship          5000\n",
       "deer          5000\n",
       "truck         5000\n",
       "dog           5000\n",
       "Name: label, dtype: int64"
      ]
     },
     "execution_count": 3,
     "metadata": {},
     "output_type": "execute_result"
    }
   ],
   "source": [
    "train_df['label'].value_counts()"
   ]
  },
  {
   "cell_type": "code",
   "execution_count": 4,
   "metadata": {},
   "outputs": [],
   "source": [
    "def append_ext(filename):\n",
    "    '''\n",
    "    appends 'png' file extension to a filename (str)\n",
    "    '''\n",
    "    return filename+'.png'"
   ]
  },
  {
   "cell_type": "code",
   "execution_count": 5,
   "metadata": {},
   "outputs": [],
   "source": [
    "train_df['id'] = train_df['id'].apply(append_ext)"
   ]
  },
  {
   "cell_type": "code",
   "execution_count": 6,
   "metadata": {},
   "outputs": [
    {
     "data": {
      "text/html": [
       "<div>\n",
       "<style scoped>\n",
       "    .dataframe tbody tr th:only-of-type {\n",
       "        vertical-align: middle;\n",
       "    }\n",
       "\n",
       "    .dataframe tbody tr th {\n",
       "        vertical-align: top;\n",
       "    }\n",
       "\n",
       "    .dataframe thead th {\n",
       "        text-align: right;\n",
       "    }\n",
       "</style>\n",
       "<table border=\"1\" class=\"dataframe\">\n",
       "  <thead>\n",
       "    <tr style=\"text-align: right;\">\n",
       "      <th></th>\n",
       "      <th>id</th>\n",
       "      <th>label</th>\n",
       "    </tr>\n",
       "  </thead>\n",
       "  <tbody>\n",
       "    <tr>\n",
       "      <th>0</th>\n",
       "      <td>1.png</td>\n",
       "      <td>frog</td>\n",
       "    </tr>\n",
       "    <tr>\n",
       "      <th>1</th>\n",
       "      <td>2.png</td>\n",
       "      <td>truck</td>\n",
       "    </tr>\n",
       "    <tr>\n",
       "      <th>2</th>\n",
       "      <td>3.png</td>\n",
       "      <td>truck</td>\n",
       "    </tr>\n",
       "    <tr>\n",
       "      <th>3</th>\n",
       "      <td>4.png</td>\n",
       "      <td>deer</td>\n",
       "    </tr>\n",
       "    <tr>\n",
       "      <th>4</th>\n",
       "      <td>5.png</td>\n",
       "      <td>automobile</td>\n",
       "    </tr>\n",
       "  </tbody>\n",
       "</table>\n",
       "</div>"
      ],
      "text/plain": [
       "      id       label\n",
       "0  1.png        frog\n",
       "1  2.png       truck\n",
       "2  3.png       truck\n",
       "3  4.png        deer\n",
       "4  5.png  automobile"
      ]
     },
     "execution_count": 6,
     "metadata": {},
     "output_type": "execute_result"
    }
   ],
   "source": [
    "train_df.head()"
   ]
  },
  {
   "cell_type": "code",
   "execution_count": 7,
   "metadata": {},
   "outputs": [
    {
     "name": "stdout",
     "output_type": "stream",
     "text": [
      "Found 40000 validated image filenames belonging to 10 classes.\n",
      "Found 10000 validated image filenames belonging to 10 classes.\n"
     ]
    }
   ],
   "source": [
    "classes = list(train_df.label.unique())\n",
    "\n",
    "datagen = ImageDataGenerator(rescale=1./255.,validation_split=0.2)\n",
    "\n",
    "train_generator=datagen.flow_from_dataframe(dataframe=train_df,\n",
    "                                            directory=(data_path+\"train/\"),\n",
    "                                            x_col=\"id\",\n",
    "                                            y_col=\"label\",\n",
    "                                            subset=\"training\",\n",
    "                                            classes=classes,\n",
    "                                            batch_size=32,\n",
    "                                            seed=42,\n",
    "                                            shuffle=True,\n",
    "                                            class_mode=\"categorical\",\n",
    "                                            target_size=(32,32))\n",
    "\n",
    "valid_generator=datagen.flow_from_dataframe(dataframe=train_df,\n",
    "                                            directory=(data_path+\"train/\"),\n",
    "                                            x_col=\"id\",\n",
    "                                            y_col=\"label\",\n",
    "                                            subset=\"validation\",\n",
    "                                            classes=classes,\n",
    "                                            batch_size=32,\n",
    "                                            seed=42,\n",
    "                                            shuffle=True,\n",
    "                                            class_mode=\"categorical\",\n",
    "                                            target_size=(32,32))"
   ]
  },
  {
   "cell_type": "code",
   "execution_count": 8,
   "metadata": {},
   "outputs": [],
   "source": [
    "model = Sequential()\n",
    "\n",
    "model.add(Conv2D(32, (3, 3), padding='same', input_shape=(32,32,3)))\n",
    "model.add(Activation('relu'))\n",
    "\n",
    "model.add(Conv2D(32, (3, 3)))\n",
    "model.add(Activation('relu'))\n",
    "model.add(MaxPooling2D(pool_size=(2, 2)))\n",
    "model.add(Dropout(0.25))\n",
    "\n",
    "model.add(Conv2D(64, (3, 3), padding='same'))\n",
    "model.add(Activation('relu'))\n",
    "\n",
    "model.add(Conv2D(64, (3, 3)))\n",
    "model.add(Activation('relu'))\n",
    "model.add(MaxPooling2D(pool_size=(2, 2)))\n",
    "model.add(Dropout(0.25))\n",
    "model.add(Flatten())\n",
    "\n",
    "model.add(Dense(512))\n",
    "model.add(Activation('relu'))\n",
    "model.add(Dropout(0.5))\n",
    "\n",
    "model.add(Dense(10, activation='softmax'))\n",
    "\n",
    "model.compile(optimizers.RMSprop(lr=0.0001, decay=1e-6),loss=\"categorical_crossentropy\",metrics=[\"accuracy\"])"
   ]
  },
  {
   "cell_type": "code",
   "execution_count": 9,
   "metadata": {},
   "outputs": [
    {
     "name": "stdout",
     "output_type": "stream",
     "text": [
      "Epoch 1/10\n",
      "1250/1250 [==============================] - 207s 165ms/step - loss: 1.8862 - accuracy: 0.3099 - val_loss: 1.5980 - val_accuracy: 0.4215\n",
      "Epoch 2/10\n",
      "1250/1250 [==============================] - 218s 175ms/step - loss: 1.5816 - accuracy: 0.4254 - val_loss: 1.4153 - val_accuracy: 0.4933\n",
      "Epoch 3/10\n",
      "1250/1250 [==============================] - 219s 175ms/step - loss: 1.4488 - accuracy: 0.4757 - val_loss: 1.3427 - val_accuracy: 0.5202\n",
      "Epoch 4/10\n",
      "1250/1250 [==============================] - 136s 108ms/step - loss: 1.3561 - accuracy: 0.5130 - val_loss: 1.2453 - val_accuracy: 0.5483\n",
      "Epoch 5/10\n",
      "1250/1250 [==============================] - 153s 122ms/step - loss: 1.2864 - accuracy: 0.5429 - val_loss: 1.1710 - val_accuracy: 0.5838\n",
      "Epoch 6/10\n",
      "1250/1250 [==============================] - 221s 177ms/step - loss: 1.2229 - accuracy: 0.5672 - val_loss: 1.1356 - val_accuracy: 0.5942\n",
      "Epoch 7/10\n",
      "1250/1250 [==============================] - 222s 177ms/step - loss: 1.1635 - accuracy: 0.5900 - val_loss: 1.0682 - val_accuracy: 0.6223\n",
      "Epoch 8/10\n",
      "1250/1250 [==============================] - 211s 169ms/step - loss: 1.1158 - accuracy: 0.6060 - val_loss: 1.0249 - val_accuracy: 0.6350\n",
      "Epoch 9/10\n",
      "1250/1250 [==============================] - 212s 170ms/step - loss: 1.0641 - accuracy: 0.6257 - val_loss: 1.0420 - val_accuracy: 0.6333\n",
      "Epoch 10/10\n",
      "1250/1250 [==============================] - 210s 168ms/step - loss: 1.0255 - accuracy: 0.6403 - val_loss: 1.0102 - val_accuracy: 0.6386\n"
     ]
    },
    {
     "data": {
      "text/plain": [
       "<tensorflow.python.keras.callbacks.History at 0x7fbb3e4533c8>"
      ]
     },
     "execution_count": 9,
     "metadata": {},
     "output_type": "execute_result"
    }
   ],
   "source": [
    "STEP_SIZE_TRAIN=train_generator.n//train_generator.batch_size\n",
    "STEP_SIZE_VALID=valid_generator.n//valid_generator.batch_size\n",
    "\n",
    "model.fit(train_generator,\n",
    "          steps_per_epoch=STEP_SIZE_TRAIN,\n",
    "          validation_data=valid_generator,\n",
    "          validation_steps=STEP_SIZE_VALID,\n",
    "          epochs=10)"
   ]
  },
  {
   "cell_type": "code",
   "execution_count": null,
   "metadata": {},
   "outputs": [],
   "source": []
  }
 ],
 "metadata": {
  "kernelspec": {
   "display_name": "Python [conda env:learn-env] *",
   "language": "python",
   "name": "conda-env-learn-env-py"
  },
  "language_info": {
   "codemirror_mode": {
    "name": "ipython",
    "version": 3
   },
   "file_extension": ".py",
   "mimetype": "text/x-python",
   "name": "python",
   "nbconvert_exporter": "python",
   "pygments_lexer": "ipython3",
   "version": "3.6.9"
  }
 },
 "nbformat": 4,
 "nbformat_minor": 4
}
