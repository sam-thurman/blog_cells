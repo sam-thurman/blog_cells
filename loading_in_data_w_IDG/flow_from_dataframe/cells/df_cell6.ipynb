{
 "cells": [
  {
   "cell_type": "code",
   "execution_count": 10,
   "metadata": {},
   "outputs": [
    {
     "name": "stdout",
     "output_type": "stream",
     "text": [
      "WARNING:tensorflow:From <ipython-input-10-f2c8445c0e23>:9: Model.fit_generator (from tensorflow.python.keras.engine.training) is deprecated and will be removed in a future version.\n",
      "Instructions for updating:\n",
      "Please use Model.fit, which supports generators.\n",
      "Epoch 1/20\n",
      "1250/1250 [==============================] - 115s 92ms/step - loss: 1.8723 - accuracy: 0.3138 - val_loss: 1.5717 - val_accuracy: 0.4324\n",
      "Epoch 2/20\n",
      "1250/1250 [==============================] - 146s 117ms/step - loss: 1.5323 - accuracy: 0.4409 - val_loss: 1.3693 - val_accuracy: 0.5066\n",
      "Epoch 3/20\n",
      "1250/1250 [==============================] - 139s 111ms/step - loss: 1.4042 - accuracy: 0.4944 - val_loss: 1.3726 - val_accuracy: 0.5133\n",
      "Epoch 4/20\n",
      "1250/1250 [==============================] - 144s 115ms/step - loss: 1.3125 - accuracy: 0.5324 - val_loss: 1.1718 - val_accuracy: 0.5812\n",
      "Epoch 5/20\n",
      "1250/1250 [==============================] - 154s 123ms/step - loss: 1.2363 - accuracy: 0.5642 - val_loss: 1.1291 - val_accuracy: 0.6026\n",
      "Epoch 6/20\n",
      "1250/1250 [==============================] - 168s 135ms/step - loss: 1.1725 - accuracy: 0.5846 - val_loss: 1.0645 - val_accuracy: 0.6234\n",
      "Epoch 7/20\n",
      "1250/1250 [==============================] - 149s 119ms/step - loss: 1.1209 - accuracy: 0.6068 - val_loss: 1.0395 - val_accuracy: 0.6332\n",
      "Epoch 8/20\n",
      "1250/1250 [==============================] - 148s 118ms/step - loss: 1.0714 - accuracy: 0.6239 - val_loss: 0.9756 - val_accuracy: 0.6566\n",
      "Epoch 9/20\n",
      "1250/1250 [==============================] - 152s 122ms/step - loss: 1.0351 - accuracy: 0.6363 - val_loss: 0.9532 - val_accuracy: 0.6635\n",
      "Epoch 10/20\n",
      "1250/1250 [==============================] - 174s 139ms/step - loss: 0.9990 - accuracy: 0.6497 - val_loss: 0.9396 - val_accuracy: 0.6688\n",
      "Epoch 11/20\n",
      "1250/1250 [==============================] - 183s 147ms/step - loss: 0.9659 - accuracy: 0.6632 - val_loss: 0.9080 - val_accuracy: 0.6805\n",
      "Epoch 12/20\n",
      "1250/1250 [==============================] - 183s 146ms/step - loss: 0.9415 - accuracy: 0.6705 - val_loss: 0.8786 - val_accuracy: 0.6903\n",
      "Epoch 13/20\n",
      "1250/1250 [==============================] - 147s 118ms/step - loss: 0.9142 - accuracy: 0.6810 - val_loss: 0.8699 - val_accuracy: 0.6961\n",
      "Epoch 14/20\n",
      "1250/1250 [==============================] - 138s 110ms/step - loss: 0.8928 - accuracy: 0.6898 - val_loss: 0.8573 - val_accuracy: 0.6953\n",
      "Epoch 15/20\n",
      "1250/1250 [==============================] - 139s 111ms/step - loss: 0.8735 - accuracy: 0.6944 - val_loss: 0.9004 - val_accuracy: 0.6840\n",
      "Epoch 16/20\n",
      "1250/1250 [==============================] - 145s 116ms/step - loss: 0.8533 - accuracy: 0.7033 - val_loss: 0.8209 - val_accuracy: 0.7115\n",
      "Epoch 17/20\n",
      "1250/1250 [==============================] - 137s 110ms/step - loss: 0.8371 - accuracy: 0.7087 - val_loss: 0.8168 - val_accuracy: 0.7091\n",
      "Epoch 18/20\n",
      "1250/1250 [==============================] - 136s 109ms/step - loss: 0.8200 - accuracy: 0.7164 - val_loss: 0.7939 - val_accuracy: 0.7224\n",
      "Epoch 19/20\n",
      "1250/1250 [==============================] - 139s 111ms/step - loss: 0.8069 - accuracy: 0.7196 - val_loss: 0.8003 - val_accuracy: 0.7218\n",
      "Epoch 20/20\n",
      "1250/1250 [==============================] - 135s 108ms/step - loss: 0.7934 - accuracy: 0.7259 - val_loss: 0.7662 - val_accuracy: 0.7324\n"
     ]
    },
    {
     "data": {
      "text/plain": [
       "<tensorflow.python.keras.callbacks.History at 0x7f955f7e3e48>"
      ]
     },
     "execution_count": 10,
     "metadata": {},
     "output_type": "execute_result"
    }
   ],
   "source": [
    "STEP_SIZE_TRAIN=train_generator.n//train_generator.batch_size\n",
    "STEP_SIZE_VALID=valid_generator.n//valid_generator.batch_size\n",
    "\n",
    "model.fit_generator(generator=train_generator,\n",
    "                    steps_per_epoch=STEP_SIZE_TRAIN,\n",
    "                    validation_data=valid_generator,\n",
    "                    validation_steps=STEP_SIZE_VALID,\n",
    "                    epochs=20)"
   ]
  }
 ],
 "metadata": {
  "kernelspec": {
   "display_name": "Python [conda env:learn-env] *",
   "language": "python",
   "name": "conda-env-learn-env-py"
  },
  "language_info": {
   "codemirror_mode": {
    "name": "ipython",
    "version": 3
   },
   "file_extension": ".py",
   "mimetype": "text/x-python",
   "name": "python",
   "nbconvert_exporter": "python",
   "pygments_lexer": "ipython3",
   "version": "3.6.9"
  }
 },
 "nbformat": 4,
 "nbformat_minor": 4
}
