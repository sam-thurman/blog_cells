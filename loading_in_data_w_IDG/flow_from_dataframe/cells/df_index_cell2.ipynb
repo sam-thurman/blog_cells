{
 "cells": [
  {
   "cell_type": "code",
   "execution_count": 2,
   "metadata": {},
   "outputs": [],
   "source": [
    "data_path = 'data/cifar-10/'\n",
    "train_path = data_path + 'trainLabels.csv'\n",
    "\n",
    "# dfs contain filenames under \"id\" \n",
    "# we need to indicate we want our to load this in as string data\n",
    "train_df = pd.read_csv(train_path, dtype='str')"
   ]
  },
  {
   "cell_type": "code",
   "execution_count": 3,
   "metadata": {},
   "outputs": [
    {
     "data": {
      "text/plain": [
       "cat           5000\n",
       "frog          5000\n",
       "horse         5000\n",
       "airplane      5000\n",
       "bird          5000\n",
       "automobile    5000\n",
       "ship          5000\n",
       "deer          5000\n",
       "truck         5000\n",
       "dog           5000\n",
       "Name: label, dtype: int64"
      ]
     },
     "execution_count": 3,
     "metadata": {},
     "output_type": "execute_result"
    }
   ],
   "source": [
    "train_df['label'].value_counts()"
   ]
  }
 ],
 "metadata": {
  "kernelspec": {
   "display_name": "Python [conda env:learn-env] *",
   "language": "python",
   "name": "conda-env-learn-env-py"
  },
  "language_info": {
   "codemirror_mode": {
    "name": "ipython",
    "version": 3
   },
   "file_extension": ".py",
   "mimetype": "text/x-python",
   "name": "python",
   "nbconvert_exporter": "python",
   "pygments_lexer": "ipython3",
   "version": "3.6.9"
  }
 },
 "nbformat": 4,
 "nbformat_minor": 4
}
