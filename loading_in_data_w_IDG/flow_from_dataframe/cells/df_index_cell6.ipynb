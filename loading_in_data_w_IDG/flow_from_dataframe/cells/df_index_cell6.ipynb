{
 "cells": [
  {
   "cell_type": "code",
   "execution_count": 9,
   "metadata": {},
   "outputs": [
    {
     "name": "stdout",
     "output_type": "stream",
     "text": [
      "Epoch 1/10\n",
      "1250/1250 [==============================] - 207s 165ms/step - loss: 1.8862 - accuracy: 0.3099 - val_loss: 1.5980 - val_accuracy: 0.4215\n",
      "Epoch 2/10\n",
      "1250/1250 [==============================] - 218s 175ms/step - loss: 1.5816 - accuracy: 0.4254 - val_loss: 1.4153 - val_accuracy: 0.4933\n",
      "Epoch 3/10\n",
      "1250/1250 [==============================] - 219s 175ms/step - loss: 1.4488 - accuracy: 0.4757 - val_loss: 1.3427 - val_accuracy: 0.5202\n",
      "Epoch 4/10\n",
      "1250/1250 [==============================] - 136s 108ms/step - loss: 1.3561 - accuracy: 0.5130 - val_loss: 1.2453 - val_accuracy: 0.5483\n",
      "Epoch 5/10\n",
      "1250/1250 [==============================] - 153s 122ms/step - loss: 1.2864 - accuracy: 0.5429 - val_loss: 1.1710 - val_accuracy: 0.5838\n",
      "Epoch 6/10\n",
      "1250/1250 [==============================] - 221s 177ms/step - loss: 1.2229 - accuracy: 0.5672 - val_loss: 1.1356 - val_accuracy: 0.5942\n",
      "Epoch 7/10\n",
      "1250/1250 [==============================] - 222s 177ms/step - loss: 1.1635 - accuracy: 0.5900 - val_loss: 1.0682 - val_accuracy: 0.6223\n",
      "Epoch 8/10\n",
      "1250/1250 [==============================] - 211s 169ms/step - loss: 1.1158 - accuracy: 0.6060 - val_loss: 1.0249 - val_accuracy: 0.6350\n",
      "Epoch 9/10\n",
      "1250/1250 [==============================] - 212s 170ms/step - loss: 1.0641 - accuracy: 0.6257 - val_loss: 1.0420 - val_accuracy: 0.6333\n",
      "Epoch 10/10\n",
      "1250/1250 [==============================] - 210s 168ms/step - loss: 1.0255 - accuracy: 0.6403 - val_loss: 1.0102 - val_accuracy: 0.6386\n"
     ]
    },
    {
     "data": {
      "text/plain": [
       "<tensorflow.python.keras.callbacks.History at 0x7fbb3e4533c8>"
      ]
     },
     "execution_count": 9,
     "metadata": {},
     "output_type": "execute_result"
    }
   ],
   "source": [
    "STEP_SIZE_TRAIN=train_generator.n//train_generator.batch_size\n",
    "STEP_SIZE_VALID=valid_generator.n//valid_generator.batch_size\n",
    "\n",
    "model.fit(train_generator,\n",
    "          steps_per_epoch=STEP_SIZE_TRAIN,\n",
    "          validation_data=valid_generator,\n",
    "          validation_steps=STEP_SIZE_VALID,\n",
    "          epochs=10)"
   ]
  }
 ],
 "metadata": {
  "kernelspec": {
   "display_name": "Python [conda env:learn-env] *",
   "language": "python",
   "name": "conda-env-learn-env-py"
  },
  "language_info": {
   "codemirror_mode": {
    "name": "ipython",
    "version": 3
   },
   "file_extension": ".py",
   "mimetype": "text/x-python",
   "name": "python",
   "nbconvert_exporter": "python",
   "pygments_lexer": "ipython3",
   "version": "3.6.9"
  }
 },
 "nbformat": 4,
 "nbformat_minor": 4
}
