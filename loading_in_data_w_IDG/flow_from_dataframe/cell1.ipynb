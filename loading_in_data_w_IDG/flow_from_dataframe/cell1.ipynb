{
 "cells": [
  {
   "cell_type": "code",
   "execution_count": 22,
   "metadata": {},
   "outputs": [],
   "source": [
    "from keras_preprocessing.image import ImageDataGenerator\n",
    "from keras.layers import Dense, Activation, Flatten, Dropout, BatchNormalization\n",
    "from keras.layers import Conv2D, MaxPooling2D\n",
    "from keras import regularizers, optimizers\n",
    "from keras.models import Model, Sequential\n",
    "\n",
    "import pandas as pd\n",
    "import numpy as np\n",
    "import matplotlib.pyplot as plt"
   ]
  },
  {
   "cell_type": "code",
   "execution_count": 10,
   "metadata": {},
   "outputs": [],
   "source": [
    "data_path = 'data/cifar-10/'\n",
    "train_path = data_path + 'trainLabels.csv'\n",
    "test_path = data_path + 'sampleSubmission.csv'\n",
    "\n",
    "# dfs contain filenames under \"id\" \n",
    "# we need to indicate we want our to load this in as string data\n",
    "train_df = pd.read_csv(train_path, dtype='str')\n",
    "test_df = pd.read_csv(test_path, dtype='str')"
   ]
  },
  {
   "cell_type": "code",
   "execution_count": 11,
   "metadata": {},
   "outputs": [
    {
     "data": {
      "text/plain": [
       "automobile    5000\n",
       "horse         5000\n",
       "airplane      5000\n",
       "bird          5000\n",
       "frog          5000\n",
       "dog           5000\n",
       "cat           5000\n",
       "truck         5000\n",
       "deer          5000\n",
       "ship          5000\n",
       "Name: label, dtype: int64"
      ]
     },
     "execution_count": 11,
     "metadata": {},
     "output_type": "execute_result"
    }
   ],
   "source": [
    "train_df['label'].value_counts()"
   ]
  },
  {
   "cell_type": "code",
   "execution_count": 12,
   "metadata": {},
   "outputs": [],
   "source": [
    "def append_ext(filename):\n",
    "    '''\n",
    "    appends 'png' file extension to a filename (str)\n",
    "    '''\n",
    "    return filename+'.png'"
   ]
  },
  {
   "cell_type": "code",
   "execution_count": 13,
   "metadata": {},
   "outputs": [],
   "source": [
    "train_df['id'] = train_df['id'].apply(append_ext)\n",
    "test_df['id'] = test_df['id'].apply(append_ext)"
   ]
  },
  {
   "cell_type": "code",
   "execution_count": 14,
   "metadata": {},
   "outputs": [
    {
     "data": {
      "text/html": [
       "<div>\n",
       "<style scoped>\n",
       "    .dataframe tbody tr th:only-of-type {\n",
       "        vertical-align: middle;\n",
       "    }\n",
       "\n",
       "    .dataframe tbody tr th {\n",
       "        vertical-align: top;\n",
       "    }\n",
       "\n",
       "    .dataframe thead th {\n",
       "        text-align: right;\n",
       "    }\n",
       "</style>\n",
       "<table border=\"1\" class=\"dataframe\">\n",
       "  <thead>\n",
       "    <tr style=\"text-align: right;\">\n",
       "      <th></th>\n",
       "      <th>id</th>\n",
       "      <th>label</th>\n",
       "    </tr>\n",
       "  </thead>\n",
       "  <tbody>\n",
       "    <tr>\n",
       "      <th>0</th>\n",
       "      <td>1.png</td>\n",
       "      <td>frog</td>\n",
       "    </tr>\n",
       "    <tr>\n",
       "      <th>1</th>\n",
       "      <td>2.png</td>\n",
       "      <td>truck</td>\n",
       "    </tr>\n",
       "    <tr>\n",
       "      <th>2</th>\n",
       "      <td>3.png</td>\n",
       "      <td>truck</td>\n",
       "    </tr>\n",
       "    <tr>\n",
       "      <th>3</th>\n",
       "      <td>4.png</td>\n",
       "      <td>deer</td>\n",
       "    </tr>\n",
       "    <tr>\n",
       "      <th>4</th>\n",
       "      <td>5.png</td>\n",
       "      <td>automobile</td>\n",
       "    </tr>\n",
       "  </tbody>\n",
       "</table>\n",
       "</div>"
      ],
      "text/plain": [
       "      id       label\n",
       "0  1.png        frog\n",
       "1  2.png       truck\n",
       "2  3.png       truck\n",
       "3  4.png        deer\n",
       "4  5.png  automobile"
      ]
     },
     "execution_count": 14,
     "metadata": {},
     "output_type": "execute_result"
    }
   ],
   "source": [
    "train_df.head()"
   ]
  },
  {
   "cell_type": "code",
   "execution_count": 15,
   "metadata": {},
   "outputs": [],
   "source": [
    "datagen = ImageDataGenerator(rescale=1./255.,validation_split=0.2)"
   ]
  },
  {
   "cell_type": "code",
   "execution_count": 19,
   "metadata": {},
   "outputs": [
    {
     "name": "stdout",
     "output_type": "stream",
     "text": [
      "Found 40000 validated image filenames belonging to 10 classes.\n",
      "Found 10000 validated image filenames belonging to 10 classes.\n"
     ]
    }
   ],
   "source": [
    "train_generator=datagen.flow_from_dataframe(dataframe=train_df,\n",
    "                                            directory=(data_path+\"train/\"),\n",
    "                                            x_col=\"id\",\n",
    "                                            y_col=\"label\",\n",
    "                                            subset=\"training\",\n",
    "                                            batch_size=32,\n",
    "                                            seed=42,\n",
    "                                            shuffle=True,\n",
    "                                            class_mode=\"categorical\",\n",
    "                                            target_size=(32,32))\n",
    "\n",
    "valid_generator=datagen.flow_from_dataframe(dataframe=train_df,\n",
    "                                            directory=(data_path+\"train/\"),\n",
    "                                            x_col=\"id\",\n",
    "                                            y_col=\"label\",\n",
    "                                            subset=\"validation\",\n",
    "                                            batch_size=32,\n",
    "                                            seed=42,\n",
    "                                            shuffle=True,\n",
    "                                            class_mode=\"categorical\",\n",
    "                                            target_size=(32,32))"
   ]
  },
  {
   "cell_type": "code",
   "execution_count": 20,
   "metadata": {},
   "outputs": [
    {
     "name": "stdout",
     "output_type": "stream",
     "text": [
      "Found 300000 validated image filenames.\n"
     ]
    }
   ],
   "source": [
    "testgen=ImageDataGenerator(rescale=1./255.)\n",
    "\n",
    "test_generator=testgen.flow_from_dataframe(dataframe=test_df,\n",
    "                                           directory=(data_path+\"test/\"),\n",
    "                                           x_col=\"id\",\n",
    "                                           y_col=None,\n",
    "                                           batch_size=32,\n",
    "                                           seed=42,\n",
    "                                           shuffle=False,\n",
    "                                           class_mode=None,\n",
    "                                           target_size=(32,32))"
   ]
  },
  {
   "cell_type": "code",
   "execution_count": 26,
   "metadata": {},
   "outputs": [],
   "source": [
    "model = Sequential()\n",
    "\n",
    "model.add(Conv2D(32, (3, 3), padding='same', input_shape=(32,32,3)))\n",
    "model.add(Activation('relu'))\n",
    "\n",
    "model.add(Conv2D(32, (3, 3)))\n",
    "model.add(Activation('relu'))\n",
    "model.add(MaxPooling2D(pool_size=(2, 2)))\n",
    "model.add(Dropout(0.25))\n",
    "\n",
    "model.add(Conv2D(64, (3, 3), padding='same'))\n",
    "model.add(Activation('relu'))\n",
    "\n",
    "model.add(Conv2D(64, (3, 3)))\n",
    "model.add(Activation('relu'))\n",
    "model.add(MaxPooling2D(pool_size=(2, 2)))\n",
    "model.add(Dropout(0.25))\n",
    "model.add(Flatten())\n",
    "\n",
    "model.add(Dense(512))\n",
    "model.add(Activation('relu'))\n",
    "model.add(Dropout(0.5))\n",
    "\n",
    "model.add(Dense(10, activation='softmax'))\n",
    "\n",
    "model.compile(optimizers.RMSprop(lr=0.0001, decay=1e-6),loss=\"categorical_crossentropy\",metrics=[\"accuracy\"])"
   ]
  },
  {
   "cell_type": "code",
   "execution_count": 27,
   "metadata": {},
   "outputs": [],
   "source": [
    "STEP_SIZE_TRAIN=train_generator.n//train_generator.batch_size\n",
    "STEP_SIZE_VALID=valid_generator.n//valid_generator.batch_size\n",
    "STEP_SIZE_TEST=test_generator.n//test_generator.batch_size"
   ]
  },
  {
   "cell_type": "code",
   "execution_count": 28,
   "metadata": {},
   "outputs": [
    {
     "name": "stdout",
     "output_type": "stream",
     "text": [
      "WARNING:tensorflow:From <ipython-input-28-7a6ea1463e5a>:5: Model.fit_generator (from tensorflow.python.keras.engine.training) is deprecated and will be removed in a future version.\n",
      "Instructions for updating:\n",
      "Please use Model.fit, which supports generators.\n",
      "Epoch 1/10\n",
      "1250/1250 [==============================] - 112s 90ms/step - loss: 1.8912 - accuracy: 0.3082 - val_loss: 1.6097 - val_accuracy: 0.4148\n",
      "Epoch 2/10\n",
      "1250/1250 [==============================] - 117s 93ms/step - loss: 1.5798 - accuracy: 0.4278 - val_loss: 1.4584 - val_accuracy: 0.4756\n",
      "Epoch 3/10\n",
      "1250/1250 [==============================] - 113s 90ms/step - loss: 1.4350 - accuracy: 0.4843 - val_loss: 1.3256 - val_accuracy: 0.5197\n",
      "Epoch 4/10\n",
      "1250/1250 [==============================] - 116s 92ms/step - loss: 1.3490 - accuracy: 0.5171 - val_loss: 1.2523 - val_accuracy: 0.5519\n",
      "Epoch 5/10\n",
      "1250/1250 [==============================] - 119s 95ms/step - loss: 1.2707 - accuracy: 0.5483 - val_loss: 1.1494 - val_accuracy: 0.5959\n",
      "Epoch 6/10\n",
      "1250/1250 [==============================] - 115s 92ms/step - loss: 1.1985 - accuracy: 0.5752 - val_loss: 1.1219 - val_accuracy: 0.6026\n",
      "Epoch 7/10\n",
      "1250/1250 [==============================] - 122s 98ms/step - loss: 1.1403 - accuracy: 0.6011 - val_loss: 1.0452 - val_accuracy: 0.6309\n",
      "Epoch 8/10\n",
      "1250/1250 [==============================] - 125s 100ms/step - loss: 1.0893 - accuracy: 0.6181 - val_loss: 1.0294 - val_accuracy: 0.6350\n",
      "Epoch 9/10\n",
      "1250/1250 [==============================] - 133s 107ms/step - loss: 1.0423 - accuracy: 0.6342 - val_loss: 0.9491 - val_accuracy: 0.6690\n",
      "Epoch 10/10\n",
      "1250/1250 [==============================] - 130s 104ms/step - loss: 1.0053 - accuracy: 0.6468 - val_loss: 0.9964 - val_accuracy: 0.6466\n"
     ]
    },
    {
     "data": {
      "text/plain": [
       "<tensorflow.python.keras.callbacks.History at 0x7f88d2423208>"
      ]
     },
     "execution_count": 28,
     "metadata": {},
     "output_type": "execute_result"
    }
   ],
   "source": [
    "model.fit_generator(generator=train_generator,\n",
    "                    steps_per_epoch=STEP_SIZE_TRAIN,\n",
    "                    validation_data=valid_generator,\n",
    "                    validation_steps=STEP_SIZE_VALID,\n",
    "                    epochs=10)"
   ]
  },
  {
   "cell_type": "code",
   "execution_count": 30,
   "metadata": {},
   "outputs": [
    {
     "name": "stdout",
     "output_type": "stream",
     "text": [
      "Epoch 1/10\n",
      "1250/1250 [==============================] - 122s 98ms/step - loss: 0.9662 - accuracy: 0.6617 - val_loss: 0.9358 - val_accuracy: 0.6680\n",
      "Epoch 2/10\n",
      "1250/1250 [==============================] - 122s 98ms/step - loss: 0.9409 - accuracy: 0.6729 - val_loss: 0.8719 - val_accuracy: 0.6943\n",
      "Epoch 3/10\n",
      "1250/1250 [==============================] - 154s 123ms/step - loss: 0.9127 - accuracy: 0.6831 - val_loss: 0.8426 - val_accuracy: 0.7024\n",
      "Epoch 4/10\n",
      "1250/1250 [==============================] - 141s 113ms/step - loss: 0.8822 - accuracy: 0.6919 - val_loss: 0.9371 - val_accuracy: 0.6739\n",
      "Epoch 5/10\n",
      "1250/1250 [==============================] - 136s 109ms/step - loss: 0.8644 - accuracy: 0.6983 - val_loss: 0.8400 - val_accuracy: 0.7027\n",
      "Epoch 6/10\n",
      "1250/1250 [==============================] - 134s 107ms/step - loss: 0.8432 - accuracy: 0.7048 - val_loss: 0.8138 - val_accuracy: 0.7129\n",
      "Epoch 7/10\n",
      "1250/1250 [==============================] - 127s 102ms/step - loss: 0.8264 - accuracy: 0.7131 - val_loss: 0.8262 - val_accuracy: 0.7104\n",
      "Epoch 8/10\n",
      "1250/1250 [==============================] - 131s 105ms/step - loss: 0.8054 - accuracy: 0.7213 - val_loss: 0.7786 - val_accuracy: 0.7256\n",
      "Epoch 9/10\n",
      "1250/1250 [==============================] - 135s 108ms/step - loss: 0.7940 - accuracy: 0.7229 - val_loss: 0.7882 - val_accuracy: 0.7211\n",
      "Epoch 10/10\n",
      "1250/1250 [==============================] - 130s 104ms/step - loss: 0.7833 - accuracy: 0.7283 - val_loss: 0.7489 - val_accuracy: 0.7426\n"
     ]
    },
    {
     "data": {
      "text/plain": [
       "<tensorflow.python.keras.callbacks.History at 0x7f88bf5f56a0>"
      ]
     },
     "execution_count": 30,
     "metadata": {},
     "output_type": "execute_result"
    }
   ],
   "source": [
    "model.fit_generator(generator=train_generator,\n",
    "                    steps_per_epoch=STEP_SIZE_TRAIN,\n",
    "                    validation_data=valid_generator,\n",
    "                    validation_steps=STEP_SIZE_VALID,\n",
    "                    epochs=10)"
   ]
  },
  {
   "cell_type": "code",
   "execution_count": null,
   "metadata": {},
   "outputs": [],
   "source": []
  }
 ],
 "metadata": {
  "kernelspec": {
   "display_name": "Python [conda env:learn-env] *",
   "language": "python",
   "name": "conda-env-learn-env-py"
  },
  "language_info": {
   "codemirror_mode": {
    "name": "ipython",
    "version": 3
   },
   "file_extension": ".py",
   "mimetype": "text/x-python",
   "name": "python",
   "nbconvert_exporter": "python",
   "pygments_lexer": "ipython3",
   "version": "3.6.9"
  }
 },
 "nbformat": 4,
 "nbformat_minor": 4
}
